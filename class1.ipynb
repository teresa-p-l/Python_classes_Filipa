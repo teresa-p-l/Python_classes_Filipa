{
 "cells": [
  {
   "cell_type": "markdown",
   "id": "47eb4026",
   "metadata": {},
   "source": [
    "# Introduction to Python -- Class 1\n",
    "\n",
    "(Date: Feb. 2025)\n",
    "\n",
    "Notebook content:\n",
    "\n",
    "1. Hello World!\n",
    "2. Variables and simple data types\n",
    "3. Readable printing \n",
    "4. Loops\n",
    "5. Boolean logic\n"
   ]
  },
  {
   "cell_type": "markdown",
   "id": "8794f11b-9d70-4ac0-9897-90dc25bedac7",
   "metadata": {},
   "source": [
    "##  Hello World!\n",
    "\n",
    "Just the typical \"Hello Word!\" to make sure everything is working. And discussing how to use comments in Python."
   ]
  },
  {
   "cell_type": "code",
   "execution_count": 4,
   "id": "a876419b-c688-41a5-92f3-f1bae321a8d4",
   "metadata": {
    "is_executing": true
   },
   "outputs": [
    {
     "name": "stdout",
     "output_type": "stream",
     "text": [
      "Hello World!\n"
     ]
    }
   ],
   "source": [
    "print(\"Hello World!\")"
   ]
  },
  {
   "cell_type": "code",
   "execution_count": 5,
   "id": "c54c9c2f",
   "metadata": {},
   "outputs": [
    {
     "name": "stdout",
     "output_type": "stream",
     "text": [
      "Hello!\n"
     ]
    }
   ],
   "source": [
    "# This is a simple, single-line comment in Python!\n",
    "# print(\"Hellow World!\")\n",
    "print(\"Hello!\")"
   ]
  },
  {
   "cell_type": "code",
   "execution_count": 6,
   "id": "c54129f4",
   "metadata": {},
   "outputs": [
    {
     "name": "stdout",
     "output_type": "stream",
     "text": [
      "Hello!\n"
     ]
    }
   ],
   "source": [
    "\"\"\"\n",
    "If you need to make a larger comment section, you would do it like this.\n",
    "print(\"Hello World!\")\n",
    "\"\"\"\n",
    "print(\"Hello!\")"
   ]
  },
  {
   "cell_type": "markdown",
   "id": "754b407c",
   "metadata": {},
   "source": [
    "---"
   ]
  },
  {
   "cell_type": "markdown",
   "id": "a5c37979",
   "metadata": {},
   "source": [
    "## Variables and simple data types\n",
    "\n",
    "In this first part of the class, you’ll learn about the different kinds of data you can work with in your Python programs. You’ll also learn how to store your data in variables and how to use those variables in your programs.\n",
    "\n",
    "Every variable has a type. Here, we will discuss strings, integers, floats, and Booleans. We will learn more about other data types in future classes."
   ]
  },
  {
   "cell_type": "markdown",
   "id": "677a8499",
   "metadata": {},
   "source": [
    "### Strings\n",
    "\n",
    "Let us replicate the `Hello World` example from above using a variable.\n",
    "\n",
    "To assign a **value** to a **variable**, we use the `=` sign:"
   ]
  },
  {
   "cell_type": "code",
   "execution_count": 4,
   "id": "2ca34689",
   "metadata": {},
   "outputs": [
    {
     "name": "stdout",
     "output_type": "stream",
     "text": [
      "Hello Lovely World!\n"
     ]
    }
   ],
   "source": [
    "message = \"Hello Lovely World!\"\n",
    "print(message)"
   ]
  },
  {
   "cell_type": "markdown",
   "id": "e73dd1d9",
   "metadata": {},
   "source": [
    "### Numbers: integers and floats\n",
    "\n",
    "Using variables is good programming practice. For instance, suppose someone asks you to to calculate how much money you will get out of a bank deposit with an initial contribution of 100€ and after 7 years at an interest rate of 5%. You could easily calculate it as follows:\n",
    "$$\n",
    "\\text{Final amount} = \\text{Initial amount} * \\left( 1 + \\frac{\\text{interest rate}}{100} \\right)^{\\text{years}}\\,.\n",
    "$$"
   ]
  },
  {
   "cell_type": "code",
   "execution_count": 5,
   "id": "48ecb097",
   "metadata": {},
   "outputs": [
    {
     "data": {
      "text/plain": [
       "140.71004226562505"
      ]
     },
     "execution_count": 5,
     "metadata": {},
     "output_type": "execute_result"
    }
   ],
   "source": [
    "100 * (1 + 5 / 100)**7"
   ]
  },
  {
   "cell_type": "markdown",
   "id": "db28662a",
   "metadata": {},
   "source": [
    "Therefore, we just found out that the answer is 140.71€. \n",
    "\n",
    "Instead of doing this, we can define four variables:\n",
    "* The initial amount of money;\n",
    "* The interest rate;\n",
    "* The number of years;\n",
    "* The final amount of money."
   ]
  },
  {
   "cell_type": "code",
   "execution_count": 6,
   "id": "e68423f4",
   "metadata": {},
   "outputs": [
    {
     "name": "stdout",
     "output_type": "stream",
     "text": [
      "140.71004226562505\n"
     ]
    }
   ],
   "source": [
    "initial = 100\n",
    "ir = 5\n",
    "years = 7\n",
    "final = initial*(1+ir/100)**years\n",
    "print(final)"
   ]
  },
  {
   "cell_type": "markdown",
   "id": "56f3ca5a",
   "metadata": {},
   "source": [
    "Evidently, we obtain exactly the same result of 140.71€ but now, if someone changes one of the input data we can simply change the assignment value."
   ]
  },
  {
   "cell_type": "markdown",
   "id": "3f6f393e",
   "metadata": {},
   "source": [
    "Again, note that the `=` sign is used to **assign a value to a variable**! \n",
    "\n",
    "If instead we want to check whether the variable has a given value, then we need to use the `==` sign:"
   ]
  },
  {
   "cell_type": "code",
   "execution_count": 7,
   "id": "68a7a1da",
   "metadata": {},
   "outputs": [
    {
     "data": {
      "text/plain": [
       "True"
      ]
     },
     "execution_count": 7,
     "metadata": {},
     "output_type": "execute_result"
    }
   ],
   "source": [
    "initial == 100"
   ]
  },
  {
   "cell_type": "code",
   "execution_count": 8,
   "id": "923ce56b",
   "metadata": {},
   "outputs": [
    {
     "data": {
      "text/plain": [
       "False"
      ]
     },
     "execution_count": 8,
     "metadata": {},
     "output_type": "execute_result"
    }
   ],
   "source": [
    "initial == 200"
   ]
  },
  {
   "cell_type": "code",
   "execution_count": 9,
   "id": "d3f6ea28",
   "metadata": {},
   "outputs": [
    {
     "name": "stdout",
     "output_type": "stream",
     "text": [
      "100\n",
      "200\n"
     ]
    }
   ],
   "source": [
    "print(initial)\n",
    "initial = 200\n",
    "print(initial)"
   ]
  },
  {
   "cell_type": "code",
   "execution_count": 10,
   "id": "ed3aa048",
   "metadata": {},
   "outputs": [],
   "source": [
    "initial = 100  # Let us put the value back into what it was for the example."
   ]
  },
  {
   "cell_type": "markdown",
   "id": "b7a19536",
   "metadata": {},
   "source": [
    "Every variable has a type, and we can check their type in the following manner:"
   ]
  },
  {
   "cell_type": "code",
   "execution_count": 11,
   "id": "eaff1f4b",
   "metadata": {},
   "outputs": [
    {
     "name": "stdout",
     "output_type": "stream",
     "text": [
      "<class 'str'>\n",
      "<class 'int'>\n",
      "<class 'float'>\n",
      "<class 'str'>\n",
      "<class 'bool'>\n"
     ]
    }
   ],
   "source": [
    "name = \"My name is Filipa\"\n",
    "a = 2\n",
    "b = 2.\n",
    "c = \"2\"\n",
    "d = True\n",
    "\n",
    "print(type(name))\n",
    "print(type(a))\n",
    "print(type(b))\n",
    "print(type(c))\n",
    "print(type(d))"
   ]
  },
  {
   "cell_type": "markdown",
   "id": "c1d69aec",
   "metadata": {},
   "source": [
    "Python calls any number with a decimal point a **float**. This term is used in most programming languages, and it refers to the fact that a decimal point\n",
    "can appear at any position in a number.\n",
    "\n",
    "Essentially, this means that *floats*  are real numbers that computers store with a certain numerical precision. In the case of Python, this precision is $10^{-16}$. You should alywas keep this in mind when writing your programms. Let us see an example"
   ]
  },
  {
   "cell_type": "code",
   "execution_count": 12,
   "id": "f9894670",
   "metadata": {},
   "outputs": [],
   "source": [
    "v1 = 1 / 51 * 51\n",
    "v2 = 1 / 49 * 49"
   ]
  },
  {
   "cell_type": "code",
   "execution_count": 13,
   "id": "95c073cb",
   "metadata": {},
   "outputs": [
    {
     "name": "stdout",
     "output_type": "stream",
     "text": [
      "1.0\n",
      "0.9999999999999999\n"
     ]
    }
   ],
   "source": [
    "print(v1)\n",
    "print(v2)"
   ]
  },
  {
   "cell_type": "markdown",
   "id": "6579a632",
   "metadata": {},
   "source": [
    "Did you notice the rounding error?"
   ]
  },
  {
   "cell_type": "code",
   "execution_count": 14,
   "id": "8db54ac8",
   "metadata": {},
   "outputs": [
    {
     "name": "stdout",
     "output_type": "stream",
     "text": [
      "True\n",
      "False\n"
     ]
    }
   ],
   "source": [
    "print(v1 == 1)\n",
    "print(v2 == 1)"
   ]
  },
  {
   "cell_type": "markdown",
   "id": "3cdc367e",
   "metadata": {},
   "source": [
    "For this reason, in Python, if you want to test if two floats are equal, you should always do it up to some **precision** smaller than $10^{-16}$. This is how you could do it:"
   ]
  },
  {
   "cell_type": "code",
   "execution_count": 15,
   "id": "b130abde",
   "metadata": {},
   "outputs": [
    {
     "name": "stdout",
     "output_type": "stream",
     "text": [
      "True\n"
     ]
    }
   ],
   "source": [
    "tol = 1e-10\n",
    "print(abs(v1-v2) < tol)"
   ]
  },
  {
   "cell_type": "markdown",
   "id": "fdcaa844",
   "metadata": {},
   "source": [
    "---"
   ]
  },
  {
   "cell_type": "markdown",
   "id": "b49359dc",
   "metadata": {},
   "source": [
    "## Readable printing\n",
    "\n",
    "We will now discuss a few features of the printing method that can make printing more pleasant."
   ]
  },
  {
   "cell_type": "code",
   "execution_count": 16,
   "id": "f0f4d783",
   "metadata": {},
   "outputs": [
    {
     "name": "stdout",
     "output_type": "stream",
     "text": [
      "(3.142, 3.142)\n"
     ]
    }
   ],
   "source": [
    "pi = 3.1415926535\n",
    "print(f\"({pi:.3f}, {pi:.4})\")"
   ]
  },
  {
   "cell_type": "markdown",
   "id": "62281c4e",
   "metadata": {},
   "source": [
    "The example above presents various tricks to make printing more readable:\n",
    "* The command `f` tells Python that we want to format the string being printed. The curly brakets tell Python to insert the value of the variable inside. \n",
    "* The command `pi:.4f` tells Python to print the value of the variable `pi` with 4 decimal places.\n",
    "* The command `pi:.4` tells Python to print the value of the variable `pi` with 4 digits."
   ]
  },
  {
   "cell_type": "markdown",
   "id": "a91c236b",
   "metadata": {},
   "source": [
    "This gives us a great way of printing the outcome of our interest rate exercise:"
   ]
  },
  {
   "cell_type": "code",
   "execution_count": 17,
   "id": "95e4ebad",
   "metadata": {},
   "outputs": [
    {
     "name": "stdout",
     "output_type": "stream",
     "text": [
      "After 7 years, an initial deposit of 100€ will have grown into 140.71€.\n"
     ]
    }
   ],
   "source": [
    "print(f\"After {years} years, an initial deposit of {initial}€ will have grown into {final:.2f}€.\")"
   ]
  },
  {
   "cell_type": "markdown",
   "id": "45a8675e",
   "metadata": {},
   "source": [
    "If we are working with large numbers, it could be useful to force Python to use scientific notation. This can be done with `:g`.\n",
    "\n",
    "Here is an example:"
   ]
  },
  {
   "cell_type": "code",
   "execution_count": 18,
   "id": "bed8c917",
   "metadata": {},
   "outputs": [
    {
     "name": "stdout",
     "output_type": "stream",
     "text": [
      "1000000000\n",
      "A thousand millions: 1e+09.\n"
     ]
    }
   ],
   "source": [
    "large = 1000000000\n",
    "print(large)\n",
    "print(f\"A thousand millions: {large:g}.\")"
   ]
  },
  {
   "cell_type": "markdown",
   "id": "ed7fe211",
   "metadata": {},
   "source": [
    "---"
   ]
  },
  {
   "cell_type": "markdown",
   "id": "308872dd",
   "metadata": {},
   "source": [
    "## Loops\n",
    "\n",
    "In many cases we need to perform an action multiple times, or do different things depending on different situations. Instead of doing this one by one, loops help us program such cases quickly and efficiently.\n",
    "\n",
    "Let us use again our example of the interest rate:"
   ]
  },
  {
   "cell_type": "code",
   "execution_count": 19,
   "id": "8529e170",
   "metadata": {},
   "outputs": [
    {
     "name": "stdout",
     "output_type": "stream",
     "text": [
      "140.71004226562505\n"
     ]
    }
   ],
   "source": [
    "initial = 100\n",
    "ir = 5\n",
    "years = 7\n",
    "final = initial * (1 + ir / 100)**years\n",
    "print(final)"
   ]
  },
  {
   "cell_type": "markdown",
   "id": "fc554aa3",
   "metadata": {},
   "source": [
    "### For loops\n",
    "\n",
    "Suppose that instead of just wanting to know how much our investment is worth after 7 years, we want to know how much it is worth *every year* for a period of 10 years.\n",
    "\n",
    "We can write this using a `for` loop:\n",
    "```\n",
    "for element in list:           \n",
    "    <statement_1>              \n",
    "    <statement_2>              \n",
    "    ...                        \n",
    "                               \n",
    "A new statement after the loop!\n",
    "```\n",
    "\n",
    "**Be very careful with the indentation!**\n",
    "\n",
    "Let us see how this would look like in the case of our example."
   ]
  },
  {
   "cell_type": "code",
   "execution_count": 20,
   "id": "0f182272",
   "metadata": {},
   "outputs": [
    {
     "name": "stdout",
     "output_type": "stream",
     "text": [
      "After 0 years, we would have 100.00€ in the bank.\n",
      "After 1 years, we would have 105.00€ in the bank.\n",
      "After 2 years, we would have 110.25€ in the bank.\n",
      "After 3 years, we would have 115.76€ in the bank.\n",
      "After 4 years, we would have 121.55€ in the bank.\n",
      "After 5 years, we would have 127.63€ in the bank.\n",
      "After 6 years, we would have 134.01€ in the bank.\n",
      "After 7 years, we would have 140.71€ in the bank.\n",
      "After 8 years, we would have 147.75€ in the bank.\n",
      "After 9 years, we would have 155.13€ in the bank.\n",
      "After 10 years, we would have 162.89€ in the bank.\n"
     ]
    }
   ],
   "source": [
    "for i in range(11):\n",
    "    final = initial * (1 + ir / 100)**i\n",
    "    print(f\"After {i} years, we would have {final:.2f}€ in the bank.\")"
   ]
  },
  {
   "cell_type": "markdown",
   "id": "f2070731",
   "metadata": {},
   "source": [
    "There are several important things to be understood from the example above:\n",
    "\n",
    "1. `i` is our iterator variable (corresponding to the number of years).\n",
    "\n",
    "2. This variable must have an initial value (here 0) and a final value (here **10**).\n",
    "\n",
    "3. The command `range(N)` creates a `list` of integers from 0 to N-1 (incremented by 1).<br>\n",
    "    Alternatively, one can create a list starting in `a` and ending in `b`, with a step of `s` using `range(a, b+1, s)`.\n",
    "\n",
    "4. The colon tells Python where the conditions for the loop stop and where the commands to be executed begin.\n",
    "\n",
    "5. The commands to be executed **always** start with an **indentation**."
   ]
  },
  {
   "cell_type": "markdown",
   "id": "7a9f3479",
   "metadata": {},
   "source": [
    "We can put loops inside of loops as follows:"
   ]
  },
  {
   "cell_type": "code",
   "execution_count": 21,
   "id": "caccaadc",
   "metadata": {},
   "outputs": [
    {
     "name": "stdout",
     "output_type": "stream",
     "text": [
      "La multiplicación de 0 y 0 es igual 0.\n",
      "La multiplicación de 0 y 1 es igual 0.\n",
      "La multiplicación de 0 y 2 es igual 0.\n",
      "La multiplicación de 0 y 3 es igual 0.\n",
      "La multiplicación de 0 y 4 es igual 0.\n",
      "La multiplicación de 0 y 5 es igual 0.\n",
      "La multiplicación de 0 y 6 es igual 0.\n",
      "La multiplicación de 1 y 0 es igual 0.\n",
      "La multiplicación de 1 y 1 es igual 1.\n",
      "La multiplicación de 1 y 2 es igual 2.\n",
      "La multiplicación de 1 y 3 es igual 3.\n",
      "La multiplicación de 1 y 4 es igual 4.\n",
      "La multiplicación de 1 y 5 es igual 5.\n",
      "La multiplicación de 1 y 6 es igual 6.\n",
      "La multiplicación de 2 y 0 es igual 0.\n",
      "La multiplicación de 2 y 1 es igual 2.\n",
      "La multiplicación de 2 y 2 es igual 4.\n",
      "La multiplicación de 2 y 3 es igual 6.\n",
      "La multiplicación de 2 y 4 es igual 8.\n",
      "La multiplicación de 2 y 5 es igual 10.\n",
      "La multiplicación de 2 y 6 es igual 12.\n"
     ]
    }
   ],
   "source": [
    "for m in range(3):\n",
    "    for k in range(7):\n",
    "        print(f\"La multiplicación de {m} y {k} es igual {m*k}.\")"
   ]
  },
  {
   "cell_type": "markdown",
   "id": "ee88bb92",
   "metadata": {},
   "source": [
    "Again. Notice the importance of the indentation."
   ]
  },
  {
   "cell_type": "markdown",
   "id": "f2641d42",
   "metadata": {},
   "source": [
    "**Exercise:** Write a loop that calculates the sum of all integers from 1 to N and print out the *final* result."
   ]
  },
  {
   "cell_type": "code",
   "execution_count": 22,
   "id": "cdc3c423",
   "metadata": {},
   "outputs": [
    {
     "name": "stdout",
     "output_type": "stream",
     "text": [
      "55\n"
     ]
    }
   ],
   "source": [
    "# Answer 1 is hidden:\n",
    "N = 10\n",
    "sum = 0\n",
    "for i in range(1, N+1):\n",
    "    sum = sum + i\n",
    "print(sum)"
   ]
  },
  {
   "cell_type": "code",
   "execution_count": 23,
   "id": "6a61d7b8",
   "metadata": {},
   "outputs": [
    {
     "name": "stdout",
     "output_type": "stream",
     "text": [
      "55\n"
     ]
    }
   ],
   "source": [
    "# Answer 2 is hidden:\n",
    "\n",
    "N = 10\n",
    "sum = 0\n",
    "for i in range(1, N + 1):\n",
    "    sum += i\n",
    "print(sum)"
   ]
  },
  {
   "cell_type": "markdown",
   "id": "944bd804",
   "metadata": {},
   "source": [
    "### While loops\n",
    "\n",
    "A `while` loop has the following form:\n",
    "```\n",
    "while condition:               \n",
    "    <statement_1>              \n",
    "    <statement_2>              \n",
    "    ...                        \n",
    "                               \n",
    "A new statement after the loop!\n",
    "```\n",
    "\n",
    "Important considerations concerning the `while` loop:\n",
    "\n",
    "1. The `condition` is always a Boolean variable.\n",
    "2. One of the statements (usually last one) should update the element that is controlling the `condition`.<br>\n",
    "This is a common mistake that people make (if you forget to update the element controlling the condition, the `while` loop will run forever!)\n",
    "\n",
    "There are several things that need to be clear before starting a `while` loop:\n",
    "\n",
    "1. Where or how the loop starts, i.e. what are the initial values ​​of all variables involved.\n",
    "2. What statements must be repeated within the loop?\n",
    "3. When the loop ends, i.e. what conditions must become false for the loop to stop.\n",
    "4. How should variables be updated for each execution of the loop?\n",
    "\n",
    "Let us have a look at the familiar example of the interest rate!"
   ]
  },
  {
   "cell_type": "code",
   "execution_count": 24,
   "id": "938a9215",
   "metadata": {},
   "outputs": [
    {
     "name": "stdout",
     "output_type": "stream",
     "text": [
      "After 0 years, we would have 100.00€ in the bank.\n",
      "After 1 years, we would have 105.00€ in the bank.\n",
      "After 2 years, we would have 110.25€ in the bank.\n",
      "After 3 years, we would have 115.76€ in the bank.\n",
      "After 4 years, we would have 121.55€ in the bank.\n",
      "After 5 years, we would have 127.63€ in the bank.\n",
      "After 6 years, we would have 134.01€ in the bank.\n",
      "After 7 years, we would have 140.71€ in the bank.\n",
      "After 8 years, we would have 147.75€ in the bank.\n",
      "After 9 years, we would have 155.13€ in the bank.\n",
      "After 10 years, we would have 162.89€ in the bank.\n"
     ]
    }
   ],
   "source": [
    "i = 0  # variable initiation\n",
    "while i < 11:  # the Boolean condition controlling the loop\n",
    "    final = initial * (1 + ir / 100)**i\n",
    "    print(f\"After {i} years, we would have {final:.2f}€ in the bank.\")\n",
    "    i += 1  # Updating the element controlling  the condition\n"
   ]
  },
  {
   "cell_type": "markdown",
   "id": "2c10dfc7",
   "metadata": {},
   "source": [
    "**Exercise:** Rewrite the loop for calculating the integers from 1 to N and printing the *final value* now using a `while` loop."
   ]
  },
  {
   "cell_type": "code",
   "execution_count": 25,
   "id": "f6b2c082",
   "metadata": {},
   "outputs": [
    {
     "name": "stdout",
     "output_type": "stream",
     "text": [
      "55\n"
     ]
    }
   ],
   "source": [
    "# Answer is hidden:\n",
    "\n",
    "sum = 0\n",
    "N = 10\n",
    "i = 0\n",
    "while i <= N:\n",
    "    sum += i\n",
    "    i += 1\n",
    "print(sum)"
   ]
  },
  {
   "cell_type": "markdown",
   "id": "967baa82",
   "metadata": {},
   "source": [
    "**Exercise:** Remember when we used two for loops to calculate the multiplication of the first integers? Can you do the same using a while loop?"
   ]
  },
  {
   "cell_type": "code",
   "execution_count": 26,
   "id": "ce42a925",
   "metadata": {},
   "outputs": [
    {
     "name": "stdout",
     "output_type": "stream",
     "text": [
      "La multiplicación de 0 y 0 es igual 0.\n",
      "La multiplicación de 0 y 1 es igual 0.\n",
      "La multiplicación de 0 y 2 es igual 0.\n",
      "La multiplicación de 0 y 3 es igual 0.\n",
      "La multiplicación de 0 y 4 es igual 0.\n",
      "La multiplicación de 0 y 5 es igual 0.\n",
      "La multiplicación de 0 y 6 es igual 0.\n",
      "La multiplicación de 1 y 0 es igual 0.\n",
      "La multiplicación de 1 y 1 es igual 1.\n",
      "La multiplicación de 1 y 2 es igual 2.\n",
      "La multiplicación de 1 y 3 es igual 3.\n",
      "La multiplicación de 1 y 4 es igual 4.\n",
      "La multiplicación de 1 y 5 es igual 5.\n",
      "La multiplicación de 1 y 6 es igual 6.\n",
      "La multiplicación de 2 y 0 es igual 0.\n",
      "La multiplicación de 2 y 1 es igual 2.\n",
      "La multiplicación de 2 y 2 es igual 4.\n",
      "La multiplicación de 2 y 3 es igual 6.\n",
      "La multiplicación de 2 y 4 es igual 8.\n",
      "La multiplicación de 2 y 5 es igual 10.\n",
      "La multiplicación de 2 y 6 es igual 12.\n"
     ]
    }
   ],
   "source": [
    "# Answer is hidden:\n",
    "\n",
    "m = 0\n",
    "while m < 3:\n",
    "    k = 0\n",
    "    while k < 7:\n",
    "        print(f\"La multiplicación de {m} y {k} es igual {m*k}.\")\n",
    "        k += 1\n",
    "    m += 1"
   ]
  },
  {
   "cell_type": "markdown",
   "id": "1397bdbe",
   "metadata": {},
   "source": [
    "### For loops vs while loops\n",
    "\n",
    "**Comparison between `for` loops and `while` loops**\n",
    "\n",
    "* In a `for` loop, we need lists. The element controlling the loop iterates over the elements in the list.\n",
    "* In a `while` loop, we need Boolean conditions that control when the loop terminates. We also need to update the condition during the execution of the loop.\n",
    "\n",
    "\n",
    "Una diferencia importante entre un bucle for y while es tan fácil debido a la naturaleza booleana de las variables de control en el bucle while."
   ]
  },
  {
   "cell_type": "markdown",
   "id": "77492f2e",
   "metadata": {},
   "source": [
    "## Boolean logic\n",
    "\n",
    "We have seen that an important difference between loops `for` and `while` is that in the latter, the loop is controlled by a Boolean condition. \n",
    "\n",
    "This motivates a brief introduction to Boolean logic."
   ]
  },
  {
   "cell_type": "markdown",
   "id": "202bc1ec",
   "metadata": {},
   "source": [
    "The basic operators of Boolean algebra are: **conjunction** (AND), **disjunction** (OR), and **negation** (NOT). \n",
    "\n",
    "Denoting **True** as 1 and **False** as 0, the *truth tables* of these operators are:\n",
    "\n",
    "<center>\n",
    "\n",
    "| **a** | **b** | **a AND b** |\n",
    "|:-:|:-:|:-:|\n",
    "| 0 | 0 | 0 | \n",
    "| 0 | 1 | 0 |  \n",
    "| 1 | 0 | 0 |\n",
    "| 1 | 1 | 1 |\n",
    "\n",
    "<br>\n",
    "\n",
    "| **a** | **b** | **a OR b** |\n",
    "|:-:|:-:|:-:|\n",
    "| 0 | 0 | 0 | \n",
    "| 0 | 1 | 1 |  \n",
    "| 1 | 0 | 1 |\n",
    "| 1 | 1 | 1 |\n",
    "\n",
    "<br>\n",
    "\n",
    "| **a** | **NOT a** | \n",
    "|:-:|:-:|\n",
    "| 0 | 1 | \n",
    "| 1 | 0 |   \n",
    "</center>\n",
    "\n"
   ]
  },
  {
   "cell_type": "markdown",
   "id": "1ce2b7e0",
   "metadata": {},
   "source": [
    "**Exercise**<br>\n",
    "\n",
    "Let $a=0$, $b=1.2$.\n",
    "What are the values ​​of the following boolean operations?<br>\n",
    "\n",
    "1. $a \\geq 0$ AND $b < 1$. \n",
    "2. $a \\geq 0$ OR $b < 1$.\n",
    "3. $a > 0$ OR $b > 1$.\n",
    "4. $a > 0$ OR NOT $b > 1$.\n",
    "5. $-1 < a  \\leq 0$ (same as $-1 < a$ AND $ a \\leq 0$).\n",
    "6. NOT ($a > 0$ OR b > 0)."
   ]
  },
  {
   "cell_type": "code",
   "execution_count": 27,
   "id": "3e552be9",
   "metadata": {},
   "outputs": [
    {
     "name": "stdout",
     "output_type": "stream",
     "text": [
      "False\n",
      "True\n",
      "True\n",
      "False\n",
      "True\n",
      "False\n"
     ]
    }
   ],
   "source": [
    "a = 0\n",
    "b = 1.2\n",
    "print(a >= 0 and b < 1)\n",
    "print(a >= 0 or b < 1)\n",
    "print(a > 0 or b > 1)\n",
    "print(a > 0 or not b > 1)\n",
    "print(-1 < a <= 0)\n",
    "print(not (a > 0 or b > 0))"
   ]
  },
  {
   "cell_type": "markdown",
   "id": "7946269d",
   "metadata": {},
   "source": [
    "We can use Boolean logic to make even more refined loops.\n",
    "\n",
    "Let us return to our example with the bank interest rate.\n",
    "\n",
    "Suppose we want to take our money from the bank either after 20 years, or when our money doubles. How can we determine which of the conditions happens first and when we can take the money out?"
   ]
  },
  {
   "cell_type": "code",
   "execution_count": 28,
   "id": "1db9cd4f",
   "metadata": {},
   "outputs": [
    {
     "name": "stdout",
     "output_type": "stream",
     "text": [
      "0 100.0\n",
      "1 105.0\n",
      "2 110.25\n",
      "3 115.76250000000002\n",
      "4 121.55062500000003\n",
      "5 127.62815625000003\n",
      "6 134.00956406250003\n",
      "7 140.71004226562505\n",
      "8 147.7455443789063\n",
      "9 155.13282159785163\n",
      "10 162.8894626777442\n",
      "11 171.0339358116314\n",
      "12 179.585632602213\n",
      "13 188.56491423232367\n",
      "14 197.99315994393987\n",
      "15 207.89281794113688\n",
      "If we remove the money after 15 years, it will be worth 207.89281794113688€.\n"
     ]
    }
   ],
   "source": [
    "# Answer is hidden\n",
    "\n",
    "initial = 100\n",
    "ir = 5\n",
    "years = 0\n",
    "x = 0\n",
    "while (years <= 20 and x <= 2.):\n",
    "    final = initial * (1 + ir / 100)**years\n",
    "    x = final / initial\n",
    "    print(years, final)\n",
    "    years += 1\n",
    "print(f\"If we remove the money after {years-1} years, it will be worth {final}€.\")"
   ]
  },
  {
   "cell_type": "markdown",
   "id": "143d943d",
   "metadata": {},
   "source": [
    "---"
   ]
  }
 ],
 "metadata": {
  "kernelspec": {
   "display_name": "base",
   "language": "python",
   "name": "python3"
  },
  "language_info": {
   "codemirror_mode": {
    "name": "ipython",
    "version": 3
   },
   "file_extension": ".py",
   "mimetype": "text/x-python",
   "name": "python",
   "nbconvert_exporter": "python",
   "pygments_lexer": "ipython3",
   "version": "3.12.8"
  }
 },
 "nbformat": 4,
 "nbformat_minor": 5
}

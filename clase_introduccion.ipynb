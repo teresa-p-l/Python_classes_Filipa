{
 "cells": [
  {
   "cell_type": "code",
   "execution_count": 2,
   "metadata": {},
   "outputs": [
    {
     "name": "stdout",
     "output_type": "stream",
     "text": [
      "hi\n"
     ]
    }
   ],
   "source": [
    "print(\"hi\")"
   ]
  },
  {
   "cell_type": "code",
   "execution_count": 3,
   "metadata": {},
   "outputs": [
    {
     "name": "stdout",
     "output_type": "stream",
     "text": [
      "140.71004226562505\n"
     ]
    }
   ],
   "source": [
    "initial = 100\n",
    "ir=5\n",
    "years=7\n",
    "final = initial*(1+ir/100)**years\n",
    "print(final)"
   ]
  },
  {
   "cell_type": "code",
   "execution_count": 4,
   "metadata": {},
   "outputs": [
    {
     "data": {
      "text/plain": [
       "True"
      ]
     },
     "execution_count": 4,
     "metadata": {},
     "output_type": "execute_result"
    }
   ],
   "source": [
    "initial == 100"
   ]
  },
  {
   "cell_type": "code",
   "execution_count": 5,
   "metadata": {},
   "outputs": [
    {
     "data": {
      "text/plain": [
       "False"
      ]
     },
     "execution_count": 5,
     "metadata": {},
     "output_type": "execute_result"
    }
   ],
   "source": [
    "initial ==200"
   ]
  },
  {
   "cell_type": "code",
   "execution_count": 6,
   "metadata": {},
   "outputs": [
    {
     "name": "stdout",
     "output_type": "stream",
     "text": [
      "100\n",
      "200\n"
     ]
    }
   ],
   "source": [
    "print(initial)\n",
    "initial = 200\n",
    "print(initial)\n"
   ]
  },
  {
   "cell_type": "code",
   "execution_count": 7,
   "metadata": {},
   "outputs": [],
   "source": [
    "initial = 100\n"
   ]
  },
  {
   "cell_type": "code",
   "execution_count": 8,
   "metadata": {},
   "outputs": [
    {
     "name": "stdout",
     "output_type": "stream",
     "text": [
      "<class 'str'>\n",
      "<class 'int'>\n",
      "<class 'float'>\n",
      "<class 'str'>\n",
      "<class 'bool'>\n"
     ]
    }
   ],
   "source": [
    "name=\"My name is Teresa\" #string\n",
    "a=2 #integer\n",
    "b=2. #float\n",
    "c=\"2\" #string\n",
    "d=True #boolean\n",
    "\n",
    "print(type(name))\n",
    "print(type(a))\n",
    "print(type(b))\n",
    "print(type(c))\n",
    "print(type(d))\n"
   ]
  },
  {
   "cell_type": "code",
   "execution_count": 9,
   "metadata": {},
   "outputs": [
    {
     "name": "stdout",
     "output_type": "stream",
     "text": [
      "1.0\n",
      "0.9999999999999999\n"
     ]
    }
   ],
   "source": [
    "v1=1/51*51\n",
    "v2=1/49*49\n",
    "\n",
    "print(v1)\n",
    "print(v2)\n"
   ]
  },
  {
   "cell_type": "code",
   "execution_count": 10,
   "metadata": {},
   "outputs": [
    {
     "name": "stdout",
     "output_type": "stream",
     "text": [
      "True\n",
      "False\n"
     ]
    }
   ],
   "source": [
    "print(v1==1)\n",
    "print(v2==1)\n"
   ]
  },
  {
   "cell_type": "code",
   "execution_count": 11,
   "metadata": {},
   "outputs": [
    {
     "name": "stdout",
     "output_type": "stream",
     "text": [
      "True\n"
     ]
    }
   ],
   "source": [
    "tol=1e-10\n",
    "print(abs(v1-1)<tol)"
   ]
  },
  {
   "cell_type": "code",
   "execution_count": 12,
   "metadata": {},
   "outputs": [
    {
     "name": "stdout",
     "output_type": "stream",
     "text": [
      "(3.142, 3.1416)\n"
     ]
    }
   ],
   "source": [
    "pi=3.1415926535\n",
    "print(f\"({pi:.3f}, {pi:.5})\")\n",
    "#this will print (3.142, 3.1416)\n",
    "#the :.3f means print the float with 3 decimal places and the :.4 means print the float with 4 numbers (total)\n",
    "#the f in front of the string means that it is a formatted string"
   ]
  },
  {
   "cell_type": "code",
   "execution_count": 13,
   "metadata": {},
   "outputs": [
    {
     "name": "stdout",
     "output_type": "stream",
     "text": [
      "10000000000\n",
      "A thousand times large is 1e+10\n"
     ]
    }
   ],
   "source": [
    "large=10000000000\n",
    "print(large)\n",
    "print(f\"A thousand times large is {large:g}\")\n",
    "#the command g will print the number in scientific notation if it is too large or too small"
   ]
  },
  {
   "cell_type": "markdown",
   "metadata": {},
   "source": [
    "Now we are doing loops"
   ]
  },
  {
   "cell_type": "code",
   "execution_count": 14,
   "metadata": {},
   "outputs": [],
   "source": [
    "initial=100\n",
    "ir=5\n",
    "years=7 \n",
    "final=initial*(1+ir/100)**years\n"
   ]
  },
  {
   "cell_type": "code",
   "execution_count": 15,
   "metadata": {},
   "outputs": [
    {
     "name": "stdout",
     "output_type": "stream",
     "text": [
      "After 0 years, the final amount is 100.00\n",
      "After 1 years, the final amount is 105.00\n",
      "After 2 years, the final amount is 110.25\n",
      "After 3 years, the final amount is 115.76\n",
      "After 4 years, the final amount is 121.55\n",
      "After 5 years, the final amount is 127.63\n",
      "After 6 years, the final amount is 134.01\n",
      "After 7 years, the final amount is 140.71\n",
      "After 8 years, the final amount is 147.75\n",
      "After 9 years, the final amount is 155.13\n",
      "After 10 years, the final amount is 162.89\n"
     ]
    }
   ],
   "source": [
    "for i in range(11): #the command range(11) creates a list of numbers from 0 to 10, it goes from 0 to N-1 in steps of 1\n",
    "    final=initial*(1+ir/100)**i\n",
    "    print(f\"After {i} years, the final amount is {final:.2f}\")\n",
    "    #alternatively, one can creata a list startinf in a and ending in b with steps of s with the command range(a,b,s)"
   ]
  },
  {
   "cell_type": "code",
   "execution_count": 16,
   "metadata": {},
   "outputs": [
    {
     "name": "stdout",
     "output_type": "stream",
     "text": [
      "la multiplicación de 0 por 0 es igual a 0\n",
      "la multiplicación de 0 por 1 es igual a 0\n",
      "la multiplicación de 0 por 2 es igual a 0\n",
      "la multiplicación de 0 por 3 es igual a 0\n",
      "la multiplicación de 0 por 4 es igual a 0\n",
      "la multiplicación de 0 por 5 es igual a 0\n",
      "la multiplicación de 0 por 6 es igual a 0\n",
      "la multiplicación de 1 por 0 es igual a 0\n",
      "la multiplicación de 1 por 1 es igual a 1\n",
      "la multiplicación de 1 por 2 es igual a 2\n",
      "la multiplicación de 1 por 3 es igual a 3\n",
      "la multiplicación de 1 por 4 es igual a 4\n",
      "la multiplicación de 1 por 5 es igual a 5\n",
      "la multiplicación de 1 por 6 es igual a 6\n",
      "la multiplicación de 2 por 0 es igual a 0\n",
      "la multiplicación de 2 por 1 es igual a 2\n",
      "la multiplicación de 2 por 2 es igual a 4\n",
      "la multiplicación de 2 por 3 es igual a 6\n",
      "la multiplicación de 2 por 4 es igual a 8\n",
      "la multiplicación de 2 por 5 es igual a 10\n",
      "la multiplicación de 2 por 6 es igual a 12\n"
     ]
    }
   ],
   "source": [
    "for m in range(3):\n",
    "    for k in range(7): #This is a nested loop\n",
    "        print(f\"la multiplicación de {m} por {k} es igual a {m*k}\")"
   ]
  },
  {
   "cell_type": "markdown",
   "metadata": {},
   "source": [
    "Write a loop that calculates the sum of all untergers from 1 to N and print the result"
   ]
  },
  {
   "cell_type": "code",
   "execution_count": 17,
   "metadata": {},
   "outputs": [
    {
     "name": "stdout",
     "output_type": "stream",
     "text": [
      "55\n"
     ]
    }
   ],
   "source": [
    "num=0\n",
    "for i in range(11):\n",
    "    num=num+i\n",
    "\n",
    "print(num)"
   ]
  },
  {
   "cell_type": "code",
   "execution_count": 18,
   "metadata": {},
   "outputs": [
    {
     "name": "stdout",
     "output_type": "stream",
     "text": [
      "After 0 years, the final amount is 100.00\n",
      "After 1 years, the final amount is 104.00\n",
      "After 2 years, the final amount is 108.16\n",
      "After 3 years, the final amount is 112.49\n",
      "After 4 years, the final amount is 116.99\n",
      "After 5 years, the final amount is 121.67\n",
      "After 6 years, the final amount is 126.53\n",
      "After 7 years, the final amount is 131.59\n",
      "After 8 years, the final amount is 136.86\n",
      "After 9 years, the final amount is 142.33\n",
      "After 10 years, the final amount is 148.02\n",
      "done\n"
     ]
    }
   ],
   "source": [
    "i=0\n",
    "initial=100\n",
    "ir=4\n",
    "while i<11:\n",
    "    final=initial*(1+ir/100)**i\n",
    "    print(f\"After {i} years, the final amount is {final:.2f}\")\n",
    "    i += 1 #this is the same as i=i+1 #update the value of i\n",
    "\n",
    "print(\"done\")"
   ]
  },
  {
   "cell_type": "markdown",
   "metadata": {},
   "source": [
    "Write a loop that calculates the sum of all untergers from 1 to N and print the result using a WHILE loop\n"
   ]
  },
  {
   "cell_type": "code",
   "execution_count": 19,
   "metadata": {},
   "outputs": [
    {
     "name": "stdout",
     "output_type": "stream",
     "text": [
      "0\n",
      "1\n",
      "3\n",
      "6\n",
      "10\n",
      "15\n",
      "21\n",
      "28\n",
      "36\n",
      "45\n",
      "55\n"
     ]
    }
   ],
   "source": [
    "i=0\n",
    "num=0\n",
    "while i<11:\n",
    "    num =num+i\n",
    "    print(num)\n",
    "    i += 1"
   ]
  },
  {
   "cell_type": "markdown",
   "metadata": {},
   "source": [
    "CLASS 2"
   ]
  },
  {
   "cell_type": "markdown",
   "metadata": {},
   "source": [
    "FUNCTIONS"
   ]
  },
  {
   "cell_type": "code",
   "execution_count": 20,
   "metadata": {},
   "outputs": [],
   "source": [
    "def final_amount(initial, years):\n",
    "    \"\"\"_summary_\n",
    "\n",
    "    Args:\n",
    "        initial (_type_): _description_\n",
    "        years (_type_): _description_\n",
    "\n",
    "    Returns:\n",
    "        _type_: _description_\n",
    "    \"\"\"\n",
    "    rate=5\n",
    "    return initial*(1+rate/100)**years"
   ]
  },
  {
   "cell_type": "code",
   "execution_count": 21,
   "metadata": {},
   "outputs": [
    {
     "data": {
      "text/plain": [
       "140.71004226562505"
      ]
     },
     "execution_count": 21,
     "metadata": {},
     "output_type": "execute_result"
    }
   ],
   "source": [
    "final_amount(100,7)"
   ]
  },
  {
   "cell_type": "code",
   "execution_count": 22,
   "metadata": {},
   "outputs": [],
   "source": [
    "def suma1aN(n):\n",
    "    \"\"\"_Funcion que suma todos los números de 1 hasta el N que le pongas_\n",
    "\n",
    "    Args:\n",
    "        N (interger):_numero hasta el que sumas_\n",
    "\n",
    "    Returns:\n",
    "        suma:_devuelve el valor de la suma_\n",
    "    \"\"\"\n",
    "    suma=0\n",
    "    for i in range(n+1):\n",
    "        suma=suma+i\n",
    "    return suma    "
   ]
  },
  {
   "cell_type": "code",
   "execution_count": 23,
   "metadata": {},
   "outputs": [
    {
     "data": {
      "text/plain": [
       "55"
      ]
     },
     "execution_count": 23,
     "metadata": {},
     "output_type": "execute_result"
    }
   ],
   "source": [
    "suma1aN(10)"
   ]
  },
  {
   "cell_type": "markdown",
   "metadata": {},
   "source": [
    "Write a function that calculates the area and the circunference of a circle"
   ]
  },
  {
   "cell_type": "code",
   "execution_count": 24,
   "metadata": {},
   "outputs": [],
   "source": [
    "from math import pi"
   ]
  },
  {
   "cell_type": "code",
   "execution_count": 25,
   "metadata": {},
   "outputs": [],
   "source": [
    "def func_area_perimetro(r):\n",
    "    \"\"\"_summary_\n",
    "\n",
    "    Args:\n",
    "        r (float): El radio del circulo del que queremos calcular el área y el perímetro\n",
    "\n",
    "    Returns:\n",
    "        area, perimetro: Devuelve el área y el perímetro del círculo\n",
    "    \"\"\"\n",
    "    area=2*pi*r\n",
    "    perimetro=pi*r**2\n",
    "    return area, perimetro\n"
   ]
  },
  {
   "cell_type": "code",
   "execution_count": 26,
   "metadata": {},
   "outputs": [
    {
     "data": {
      "text/plain": [
       "(6.283185307179586, 3.141592653589793)"
      ]
     },
     "execution_count": 26,
     "metadata": {},
     "output_type": "execute_result"
    }
   ],
   "source": [
    "func_area_perimetro(1)\n"
   ]
  },
  {
   "cell_type": "markdown",
   "metadata": {},
   "source": [
    "not all functions have to return something"
   ]
  },
  {
   "cell_type": "code",
   "execution_count": 27,
   "metadata": {},
   "outputs": [],
   "source": [
    "def silly(input):\n",
    "    print(input)"
   ]
  },
  {
   "cell_type": "code",
   "execution_count": 28,
   "metadata": {},
   "outputs": [
    {
     "name": "stdout",
     "output_type": "stream",
     "text": [
      "hi\n"
     ]
    }
   ],
   "source": [
    "silly(\"hi\")"
   ]
  },
  {
   "cell_type": "code",
   "execution_count": 29,
   "metadata": {},
   "outputs": [],
   "source": [
    "def final_amount(initial, years, rate=5):\n",
    "    return initial*(1+rate/100)**years"
   ]
  },
  {
   "cell_type": "code",
   "execution_count": 30,
   "metadata": {},
   "outputs": [
    {
     "name": "stdout",
     "output_type": "stream",
     "text": [
      "140.71004226562505\n",
      "150.36302589913606\n"
     ]
    }
   ],
   "source": [
    "print(final_amount(100,7))\n",
    "print(final_amount(100,7,6))"
   ]
  },
  {
   "cell_type": "markdown",
   "metadata": {},
   "source": [
    "IF FUNCTIONS"
   ]
  },
  {
   "cell_type": "code",
   "execution_count": 31,
   "metadata": {},
   "outputs": [],
   "source": [
    "def heaviside(x,a,b):\n",
    "    f=0\n",
    "    if a<=x<=b:\n",
    "        f=1\n",
    "    return f"
   ]
  },
  {
   "cell_type": "code",
   "execution_count": 32,
   "metadata": {},
   "outputs": [
    {
     "data": {
      "text/plain": [
       "1"
      ]
     },
     "execution_count": 32,
     "metadata": {},
     "output_type": "execute_result"
    }
   ],
   "source": [
    "heaviside(1,0,2)\n"
   ]
  },
  {
   "cell_type": "markdown",
   "metadata": {},
   "source": [
    "EXERCISE"
   ]
  },
  {
   "cell_type": "code",
   "execution_count": 33,
   "metadata": {},
   "outputs": [],
   "source": [
    "def interes(initial, years):\n",
    "    if initial<=1000:\n",
    "        return initial*(1+5/100)**years\n",
    "    elif 1000<initial<=10000:\n",
    "        return initial*(1+6/100)**years\n",
    "    else:\n",
    "        return initial*(1+8/100)**years\n"
   ]
  },
  {
   "cell_type": "code",
   "execution_count": 34,
   "metadata": {},
   "outputs": [
    {
     "name": "stdout",
     "output_type": "stream",
     "text": [
      "342764.8537559042\n",
      "342764.8537559042\n"
     ]
    }
   ],
   "source": [
    "print(interes(200000, 7))\n",
    "print(final_amount(200000,7,8))"
   ]
  },
  {
   "cell_type": "markdown",
   "metadata": {},
   "source": [
    "LISTS"
   ]
  },
  {
   "cell_type": "code",
   "execution_count": 35,
   "metadata": {},
   "outputs": [
    {
     "name": "stdout",
     "output_type": "stream",
     "text": [
      "[1, 2, 3, 'hola']\n"
     ]
    }
   ],
   "source": [
    "lista=[1,2,3,\"hola\"]#listas pueden tener diferentes tipos de datos\n",
    "print(lista)"
   ]
  },
  {
   "cell_type": "code",
   "execution_count": 36,
   "metadata": {},
   "outputs": [
    {
     "name": "stdout",
     "output_type": "stream",
     "text": [
      "1\n",
      "2\n",
      "3\n",
      "hola\n",
      "hola\n",
      "3\n"
     ]
    }
   ],
   "source": [
    "print(lista[0]) #lists start at 0, and to call an element of the list you use the command list[n] where n is the position of the element in the list\n",
    "print(lista[1])\n",
    "print(lista[2]) \n",
    "print(lista[3])\n",
    "print(lista[-1]) #this will print the last element of the list\n",
    "print(lista[-2]) #this will print the penultimate element of the list"
   ]
  },
  {
   "cell_type": "code",
   "execution_count": 37,
   "metadata": {},
   "outputs": [
    {
     "data": {
      "text/plain": [
       "4"
      ]
     },
     "execution_count": 37,
     "metadata": {},
     "output_type": "execute_result"
    }
   ],
   "source": [
    "len(lista) #this will give you the length of the list"
   ]
  },
  {
   "cell_type": "code",
   "execution_count": 38,
   "metadata": {},
   "outputs": [
    {
     "data": {
      "text/plain": [
       "0"
      ]
     },
     "execution_count": 38,
     "metadata": {},
     "output_type": "execute_result"
    }
   ],
   "source": [
    "empty=[ ]\n",
    "len(empty) "
   ]
  },
  {
   "cell_type": "code",
   "execution_count": 39,
   "metadata": {},
   "outputs": [],
   "source": [
    "lista.append(\"lol\") #this will add the element lol to the end of the list "
   ]
  },
  {
   "cell_type": "code",
   "execution_count": 40,
   "metadata": {},
   "outputs": [
    {
     "name": "stdout",
     "output_type": "stream",
     "text": [
      "[1, 2, 3, 'hola', 'lol', 4, 5, 6]\n"
     ]
    }
   ],
   "source": [
    "lista = lista + [4,5,6] #this will add the elements 4,5,6 to the end of the list\n",
    "print(lista)"
   ]
  },
  {
   "cell_type": "code",
   "execution_count": 41,
   "metadata": {},
   "outputs": [
    {
     "name": "stdout",
     "output_type": "stream",
     "text": [
      "[2, 3, 'hola', 'lol', 4, 5, 6]\n"
     ]
    }
   ],
   "source": [
    "del lista[0] #this will delete the first element of the list\n",
    "print(lista)\n"
   ]
  },
  {
   "cell_type": "markdown",
   "metadata": {},
   "source": [
    "EXERCISE"
   ]
  },
  {
   "cell_type": "code",
   "execution_count": 42,
   "metadata": {},
   "outputs": [],
   "source": [
    "def listainteres(initial, years):\n",
    "    interest=[]\n",
    "    i=0\n",
    "    for i in range(years+1):\n",
    "        interest.append(initial*(1+5/100)**i)\n",
    "        i+=1\n",
    "    return interest  \n",
    "    print(listainteres(100,10))"
   ]
  },
  {
   "cell_type": "code",
   "execution_count": 43,
   "metadata": {},
   "outputs": [
    {
     "data": {
      "text/plain": [
       "[100.0,\n",
       " 105.0,\n",
       " 110.25,\n",
       " 115.76250000000002,\n",
       " 121.55062500000003,\n",
       " 127.62815625000003,\n",
       " 134.00956406250003,\n",
       " 140.71004226562505,\n",
       " 147.7455443789063,\n",
       " 155.13282159785163,\n",
       " 162.8894626777442]"
      ]
     },
     "execution_count": 43,
     "metadata": {},
     "output_type": "execute_result"
    }
   ],
   "source": [
    "listainteres(100,10)"
   ]
  },
  {
   "cell_type": "code",
   "execution_count": 44,
   "metadata": {},
   "outputs": [
    {
     "name": "stdout",
     "output_type": "stream",
     "text": [
      "adios\n"
     ]
    }
   ],
   "source": [
    "a=5.3\n",
    "if a<5:\n",
    "    print(\"hola\")\n",
    "elif a>5:\n",
    "    print(\"adios\")\n",
    "elif a==5:\n",
    "    print(\"chao\")\n",
    "    "
   ]
  },
  {
   "cell_type": "markdown",
   "metadata": {},
   "source": [
    "lists are linked, so if L1=L2 and you change things from L1 they will be changed from L1 also. For this to not happen, we do L1=.copyL2"
   ]
  },
  {
   "cell_type": "markdown",
   "metadata": {},
   "source": [
    "There can also be lists inside of lists, its just one more element of the list"
   ]
  },
  {
   "cell_type": "code",
   "execution_count": 45,
   "metadata": {},
   "outputs": [
    {
     "name": "stdout",
     "output_type": "stream",
     "text": [
      "[0, 1, 2, 3, 4, 5, 6, 7, 8, 9, 10]\n",
      "[0, 2, 4, 6, 8, 10]\n"
     ]
    }
   ],
   "source": [
    "lista1=[0,1,2,3,4,5,6,7,8,9,10]\n",
    "print(lista1)\n",
    "print(lista1[0: len(lista1):2]) #we can print some elements of a list like list[a:b:s] where a is the first element we want to print, b is the last element we want to print and s is the step"
   ]
  },
  {
   "cell_type": "markdown",
   "metadata": {},
   "source": [
    "CLASS 3: NUMPY"
   ]
  },
  {
   "cell_type": "markdown",
   "metadata": {},
   "source": [
    "We are going to use some python libraries (they are very usefull when coding)"
   ]
  },
  {
   "cell_type": "code",
   "execution_count": 46,
   "metadata": {},
   "outputs": [],
   "source": [
    "#The first lines of your code should import all the libraries and functions you are using throughout your code\n",
    "import os #this is a library that allows you to interact with the operating system\n",
    "import scipy\n",
    "import numpy as np #this way, when you want to call a function from numpy, you can just write np.function instead of numpy.function\n",
    "import matplotlib.pyplot as plt \n"
   ]
  },
  {
   "cell_type": "code",
   "execution_count": 47,
   "metadata": {},
   "outputs": [
    {
     "name": "stdout",
     "output_type": "stream",
     "text": [
      "1.4142135623730951\n"
     ]
    }
   ],
   "source": [
    "root=np.sqrt(2)\n",
    "print(root)"
   ]
  },
  {
   "cell_type": "markdown",
   "metadata": {},
   "source": [
    "creating numpy array"
   ]
  },
  {
   "cell_type": "code",
   "execution_count": 48,
   "metadata": {},
   "outputs": [],
   "source": [
    "vec=np.array([1,2,3])\n",
    "A=np.array([[1,2,3],[4,5,6],[7,8,9]])\n",
    "B=np.array([[[1,2],[3,4],[5,6]],[[7,8],[9,10],[11,12]]])"
   ]
  },
  {
   "cell_type": "code",
   "execution_count": 49,
   "metadata": {},
   "outputs": [
    {
     "name": "stdout",
     "output_type": "stream",
     "text": [
      "(3,)\n",
      "(3, 3)\n",
      "(2, 3, 2)\n"
     ]
    }
   ],
   "source": [
    "print(vec.shape)\n",
    "print(A.shape)\n",
    "print(B.shape)"
   ]
  },
  {
   "cell_type": "code",
   "execution_count": 50,
   "metadata": {},
   "outputs": [
    {
     "name": "stdout",
     "output_type": "stream",
     "text": [
      "[1 2 3]\n",
      "[[1 2 3]\n",
      " [4 5 6]\n",
      " [7 8 9]]\n",
      "[[[ 1  2]\n",
      "  [ 3  4]\n",
      "  [ 5  6]]\n",
      "\n",
      " [[ 7  8]\n",
      "  [ 9 10]\n",
      "  [11 12]]]\n"
     ]
    }
   ],
   "source": [
    "print(vec)\n",
    "print(A)\n",
    "print(B)"
   ]
  },
  {
   "cell_type": "code",
   "execution_count": 51,
   "metadata": {},
   "outputs": [
    {
     "name": "stdout",
     "output_type": "stream",
     "text": [
      "3\n",
      "9\n",
      "12\n"
     ]
    }
   ],
   "source": [
    "print(vec.size)\n",
    "print(A.size)\n",
    "print(B.size)\n"
   ]
  },
  {
   "cell_type": "code",
   "execution_count": 52,
   "metadata": {},
   "outputs": [
    {
     "name": "stdout",
     "output_type": "stream",
     "text": [
      "(3, 3)\n"
     ]
    }
   ],
   "source": [
    "print(np.shape(A))\n"
   ]
  },
  {
   "cell_type": "code",
   "execution_count": 53,
   "metadata": {},
   "outputs": [
    {
     "data": {
      "text/plain": [
       "dtype('int64')"
      ]
     },
     "execution_count": 53,
     "metadata": {},
     "output_type": "execute_result"
    }
   ],
   "source": [
    "A.dtype"
   ]
  },
  {
   "cell_type": "code",
   "execution_count": 54,
   "metadata": {},
   "outputs": [],
   "source": [
    "M2=np.array([[1,2],[3,4]], dtype=complex)"
   ]
  },
  {
   "cell_type": "markdown",
   "metadata": {},
   "source": [
    "generating functions: functions that generate arrays"
   ]
  },
  {
   "cell_type": "code",
   "execution_count": 55,
   "metadata": {},
   "outputs": [
    {
     "name": "stdout",
     "output_type": "stream",
     "text": [
      "[0 1 2 3 4 5 6 7 8 9]\n",
      "[-1.00000000e+00 -9.00000000e-01 -8.00000000e-01 -7.00000000e-01\n",
      " -6.00000000e-01 -5.00000000e-01 -4.00000000e-01 -3.00000000e-01\n",
      " -2.00000000e-01 -1.00000000e-01 -2.22044605e-16  1.00000000e-01\n",
      "  2.00000000e-01  3.00000000e-01  4.00000000e-01  5.00000000e-01\n",
      "  6.00000000e-01  7.00000000e-01  8.00000000e-01  9.00000000e-01]\n"
     ]
    }
   ],
   "source": [
    "v=np.arange(0,10,1) #this will create a list of numbers from 0 to 9 in steps of 1\n",
    "print(v)\n",
    "\n",
    "V=np.arange(-1,1,0.1)\n",
    "print(V)"
   ]
  },
  {
   "cell_type": "code",
   "execution_count": 56,
   "metadata": {},
   "outputs": [
    {
     "name": "stdout",
     "output_type": "stream",
     "text": [
      "[ 0.  1.  2.  3.  4.  5.  6.  7.  8.  9. 10.]\n",
      "[-1.  -0.9 -0.8 -0.7 -0.6 -0.5 -0.4 -0.3 -0.2 -0.1  0.   0.1  0.2  0.3\n",
      "  0.4  0.5  0.6  0.7  0.8  0.9  1. ]\n"
     ]
    }
   ],
   "source": [
    "v=np.linspace(0,10,11) #this will create a list of numbers from 0 to 10 with 11 elements\n",
    "print(v)\n",
    "\n",
    "v=np.linspace(-1,1,21)\n",
    "print(v)"
   ]
  },
  {
   "cell_type": "code",
   "execution_count": 57,
   "metadata": {},
   "outputs": [
    {
     "name": "stdout",
     "output_type": "stream",
     "text": [
      "[0 0]\n",
      "[[0. 0. 0.]\n",
      " [0. 0. 0.]\n",
      " [0. 0. 0.]]\n",
      "[[[0. 0. 0.]\n",
      "  [0. 0. 0.]\n",
      "  [0. 0. 0.]]\n",
      "\n",
      " [[0. 0. 0.]\n",
      "  [0. 0. 0.]\n",
      "  [0. 0. 0.]]]\n"
     ]
    }
   ],
   "source": [
    "Z1=np.zeros(2, dtype=int)\n",
    "Z2=np.zeros((3,3))\n",
    "Z3=np.zeros((2,3,3))\n",
    "print(Z1)\n",
    "print(Z2)\n",
    "print(Z3)\n",
    "            "
   ]
  },
  {
   "cell_type": "code",
   "execution_count": 58,
   "metadata": {},
   "outputs": [
    {
     "name": "stdout",
     "output_type": "stream",
     "text": [
      "[[1. 0. 0. 0.]\n",
      " [0. 1. 0. 0.]\n",
      " [0. 0. 1. 0.]\n",
      " [0. 0. 0. 1.]]\n",
      "[[1 0 0 0]\n",
      " [0 2 0 0]\n",
      " [0 0 3 0]\n",
      " [0 0 0 4]]\n",
      "[[0.06411016 0.71136347 0.87071141 0.56458858 0.73944912]\n",
      " [0.99100438 0.2910473  0.33522561 0.56061501 0.03424099]\n",
      " [0.62269615 0.26970483 0.37631835 0.25524772 0.08699995]\n",
      " [0.63879659 0.50220117 0.5194679  0.85267209 0.11977006]\n",
      " [0.83892082 0.23697017 0.55371885 0.07165139 0.89148938]]\n"
     ]
    }
   ],
   "source": [
    "Identity=np.eye(4)#this will create a 4x4 identity matrix\n",
    "Diagonal=np.diag([1,2,3,4])#this will create a diagonal matrix with the elements of the list\n",
    "Random=np.random.rand(5,5)#this will create a 5x5 matrix with random numbers between 0 and 1\n",
    "print(Identity)\n",
    "print(Diagonal)\n",
    "print(Random)\n"
   ]
  },
  {
   "cell_type": "code",
   "execution_count": 59,
   "metadata": {},
   "outputs": [
    {
     "name": "stdout",
     "output_type": "stream",
     "text": [
      "[0. 0. 0. 1.]\n",
      "[[0. 1. 0. 0.]\n",
      " [0. 0. 1. 0.]\n",
      " [0. 0. 0. 1.]]\n"
     ]
    }
   ],
   "source": [
    "print(Identity[-1])\n",
    "print(Identity[1:])"
   ]
  },
  {
   "cell_type": "markdown",
   "metadata": {},
   "source": [
    "LAST FILIPA CLASS"
   ]
  },
  {
   "cell_type": "code",
   "execution_count": 60,
   "metadata": {},
   "outputs": [
    {
     "name": "stdout",
     "output_type": "stream",
     "text": [
      "[ 0.          0.00999983  0.01999867  0.0299955   0.03998933  0.04997917\n",
      "  0.05996401  0.06994285  0.07991469  0.08987855  0.09983342  0.1097783\n",
      "  0.11971221  0.12963414  0.13954311  0.14943813  0.15931821  0.16918235\n",
      "  0.17902957  0.18885889  0.19866933  0.2084599   0.21822962  0.22797752\n",
      "  0.23770263  0.24740396  0.25708055  0.26673144  0.27635565  0.28595223\n",
      "  0.29552021  0.30505864  0.31456656  0.32404303  0.33348709  0.34289781\n",
      "  0.35227423  0.36161543  0.37092047  0.38018842  0.38941834  0.39860933\n",
      "  0.40776045  0.4168708   0.42593947  0.43496553  0.44394811  0.45288629\n",
      "  0.46177918  0.47062589  0.47942554  0.48817725  0.49688014  0.50553334\n",
      "  0.51413599  0.52268723  0.5311862   0.53963205  0.54802394  0.55636102\n",
      "  0.56464247  0.57286746  0.58103516  0.58914476  0.59719544  0.60518641\n",
      "  0.61311685  0.62098599  0.62879302  0.63653718  0.64421769  0.65183377\n",
      "  0.65938467  0.66686964  0.67428791  0.68163876  0.68892145  0.69613524\n",
      "  0.70327942  0.71035327  0.71735609  0.72428717  0.73114583  0.73793137\n",
      "  0.74464312  0.75128041  0.75784256  0.76432894  0.77073888  0.77707175\n",
      "  0.78332691  0.78950374  0.79560162  0.80161994  0.8075581   0.8134155\n",
      "  0.81919157  0.82488571  0.83049737  0.83602598  0.84147098  0.84683184\n",
      "  0.85210802  0.85729899  0.86240423  0.86742323  0.87235548  0.8772005\n",
      "  0.88195781  0.88662691  0.89120736  0.89569869  0.90010044  0.90441219\n",
      "  0.9086335   0.91276394  0.91680311  0.9207506   0.92460601  0.92836897\n",
      "  0.93203909  0.935616    0.93909936  0.9424888   0.945784    0.94898462\n",
      "  0.95209034  0.95510086  0.95801586  0.96083506  0.96355819  0.96618495\n",
      "  0.9687151   0.97114838  0.97348454  0.97572336  0.9778646   0.97990806\n",
      "  0.98185353  0.98370081  0.98544973  0.9871001   0.98865176  0.99010456\n",
      "  0.99145835  0.99271299  0.99386836  0.99492435  0.99588084  0.99673775\n",
      "  0.99749499  0.99815247  0.99871014  0.99916795  0.99952583  0.99978376\n",
      "  0.99994172  0.99999968  0.99995765  0.99981562  0.9995736   0.99923163\n",
      "  0.99878974  0.99824797  0.99760638  0.99686503  0.99602399  0.99508335\n",
      "  0.9940432   0.99290365  0.99166481  0.9903268   0.98888977  0.98735384\n",
      "  0.98571918  0.98398595  0.98215432  0.98022447  0.97819661  0.97607092\n",
      "  0.97384763  0.97152696  0.96910913  0.96659439  0.963983    0.9612752\n",
      "  0.95847128  0.95557152  0.95257619  0.94948561  0.94630009  0.94301993\n",
      "  0.93964547  0.93617705  0.93261501  0.92895972  0.92521152  0.92137081\n",
      "  0.91743796  0.91341336  0.90929743  0.90509056  0.90079319  0.89640574\n",
      "  0.89192865  0.88736237  0.88270735  0.87796406  0.87313298  0.86821458\n",
      "  0.86320937  0.85811783  0.85294048  0.84767784  0.84233043  0.83689879\n",
      "  0.83138346  0.82578499  0.82010395  0.81434089  0.8084964   0.80257107\n",
      "  0.79656547  0.79048022  0.78431593  0.7780732   0.77175266  0.76535495\n",
      "  0.75888071  0.75233058  0.74570521  0.73900528  0.73223144  0.72538439\n",
      "  0.71846479  0.71147335  0.70441077  0.69727774  0.69007498  0.68280322\n",
      "  0.67546318  0.66805559  0.6605812   0.65304075  0.645435    0.6377647\n",
      "  0.63003063  0.62223356  0.61437426  0.60645352  0.59847214  0.59043092\n",
      "  0.58233065  0.57417215  0.56595623  0.55768372  0.54935544  0.54097222\n",
      "  0.53253491  0.52404434  0.51550137  0.50690685  0.49826164  0.48956661\n",
      "  0.48082261  0.47203054  0.46319126  0.45430567  0.44537464  0.43639908\n",
      "  0.42737988  0.41831794  0.40921417  0.40006948  0.39088478  0.38166099\n",
      "  0.37239904  0.36309985  0.35376435  0.34439347  0.33498815  0.32554933\n",
      "  0.31607796  0.30657499  0.29704135  0.28747801  0.27788593  0.26826605\n",
      "  0.25861935  0.24894679  0.23924933  0.22952795  0.21978361  0.2100173\n",
      "  0.20022998  0.19042265  0.18059627  0.17075183  0.16089031  0.15101271\n",
      "  0.14112001  0.13121319  0.12129326  0.11136119  0.10141799  0.09146464\n",
      "  0.08150215  0.07153151  0.06155372  0.05156977  0.04158066  0.0315874\n",
      "  0.02159098  0.01159239  0.00159265 -0.00840725 -0.01840631 -0.02840353\n",
      " -0.0383979  -0.04838844 -0.05837414 -0.06835401 -0.07832703 -0.08829223\n",
      " -0.09824859 -0.10819513 -0.11813086 -0.12805476 -0.13796587 -0.14786317\n",
      " -0.15774569 -0.16761244 -0.17746242 -0.18729466 -0.19710817 -0.20690197\n",
      " -0.21667508 -0.22642652 -0.23615532 -0.2458605  -0.2555411  -0.26519615\n",
      " -0.27482467 -0.28442571 -0.29399831 -0.30354151 -0.31305436 -0.3225359\n",
      " -0.33198519 -0.34140128 -0.35078323 -0.3601301  -0.36944096 -0.37871487\n",
      " -0.38795092 -0.39714817 -0.4063057  -0.41542261 -0.42449797 -0.43353088\n",
      " -0.44252044 -0.45146575 -0.46036591 -0.46922004 -0.47802725 -0.48678665\n",
      " -0.49549737 -0.50415855 -0.51276931 -0.52132879 -0.52983614 -0.53829051\n",
      " -0.54669105 -0.55503692 -0.56332728 -0.57156132 -0.5797382  -0.5878571\n",
      " -0.59591722 -0.60391775 -0.61185789 -0.61973684 -0.62755382 -0.63530805\n",
      " -0.64299874 -0.65062514 -0.65818647 -0.66568199 -0.67311093 -0.68047257\n",
      " -0.68776616 -0.69499097 -0.70214629 -0.70923139 -0.71624557 -0.72318812\n",
      " -0.73005836 -0.73685559 -0.74357914 -0.75022833 -0.7568025  -0.76330098\n",
      " -0.76972314 -0.77606833 -0.78233591 -0.78852525 -0.79463575 -0.80066678\n",
      " -0.80661775 -0.81248805 -0.81827711 -0.82398434 -0.82960917 -0.83515105\n",
      " -0.8406094  -0.8459837  -0.8512734  -0.85647797 -0.8615969  -0.86662967\n",
      " -0.87157577 -0.87643472 -0.88120603 -0.88588921 -0.89048381 -0.89498936\n",
      " -0.89940541 -0.90373152 -0.90796726 -0.9121122  -0.91616594 -0.92012805\n",
      " -0.92399816 -0.92777586 -0.93146079 -0.93505258 -0.93855086 -0.94195528\n",
      " -0.94526551 -0.94848122 -0.95160207 -0.95462777 -0.95755801 -0.96039249\n",
      " -0.96313093 -0.96577306 -0.96831861 -0.97076734 -0.97311898 -0.97537332\n",
      " -0.97753012 -0.97958916 -0.98155025 -0.98341319 -0.98517778 -0.98684386\n",
      " -0.98841125 -0.98987981 -0.99124937 -0.99251981 -0.993691   -0.99476283\n",
      " -0.99573517 -0.99660795 -0.99738106 -0.99805444 -0.99862801 -0.99910172\n",
      " -0.99947552 -0.99974938 -0.99992326 -0.99999715 -0.99997104 -0.99984493\n",
      " -0.99961884 -0.99929279 -0.99886681 -0.99834094 -0.99771525 -0.99698978\n",
      " -0.99616461 -0.99523983 -0.99421552 -0.99309179 -0.99186876 -0.99054654\n",
      " -0.98912526 -0.98760507 -0.98598613 -0.98426858 -0.98245261 -0.9805384\n",
      " -0.97852613 -0.97641601 -0.97420825 -0.97190307 -0.9695007  -0.96700138\n",
      " -0.96440536 -0.9617129  -0.95892427 -0.95603975 -0.95305963 -0.9499842\n",
      " -0.94681378 -0.94354867 -0.94018921 -0.93673573 -0.93318858 -0.92954811\n",
      " -0.92581468 -0.92198868 -0.91807047 -0.91406047 -0.90995905 -0.90576664\n",
      " -0.90148366 -0.89711052 -0.89264768 -0.88809557 -0.88345466 -0.87872539\n",
      " -0.87390826 -0.86900374 -0.86401232 -0.85893449 -0.85377078 -0.84852169\n",
      " -0.84318774 -0.83776948 -0.83226744 -0.82668218 -0.82101425 -0.81526421\n",
      " -0.80943266 -0.80352016 -0.7975273  -0.7914547  -0.78530295 -0.77907267\n",
      " -0.77276449 -0.76637903 -0.75991693 -0.75337884 -0.74676541 -0.74007731\n",
      " -0.7333152  -0.72647976 -0.71957167 -0.71259163 -0.70554033 -0.69841847\n",
      " -0.69122677 -0.68396595 -0.67663674 -0.66923986 -0.66177605 -0.65424608\n",
      " -0.64665067 -0.6389906  -0.63126664 -0.62347955 -0.61563011 -0.6077191\n",
      " -0.59974733 -0.59171558 -0.58362466 -0.57547538 -0.56726855 -0.559005\n",
      " -0.55068554 -0.54231102 -0.53388227 -0.52540013 -0.51686544 -0.50827908\n",
      " -0.49964188 -0.49095472 -0.48221847 -0.473434   -0.46460218 -0.4557239\n",
      " -0.44680005 -0.43783152 -0.42881921 -0.41976402 -0.41066685 -0.40152861\n",
      " -0.39235022 -0.3831326  -0.37387666 -0.36458334 -0.35525356 -0.34588825\n",
      " -0.33648836 -0.32705481 -0.31758857 -0.30809056 -0.29856174 -0.28900307\n",
      " -0.2794155  -0.26979998 -0.26015749 -0.25048898 -0.24079543 -0.23107779\n",
      " -0.22133704 -0.21157417 -0.20179013 -0.19198592 -0.1821625  -0.17232088\n",
      " -0.16246202 -0.15258691 -0.14269654 -0.13279191 -0.122874   -0.11294379\n",
      " -0.1030023  -0.0930505  -0.0830894  -0.07311999 -0.06314327 -0.05316024\n",
      " -0.04317189 -0.03317922 -0.02318323 -0.01318493 -0.0031853 ]\n",
      "6.28999999999991\n"
     ]
    }
   ],
   "source": [
    "seno=np.array([])\n",
    "x=0\n",
    "while 0<=x<=2*np.pi:\n",
    "    seno=np.append(seno, np.sin(x))\n",
    "    x=x+0.01\n",
    "\n",
    "print(seno)\n",
    "print(x)"
   ]
  },
  {
   "cell_type": "code",
   "execution_count": 61,
   "metadata": {},
   "outputs": [
    {
     "name": "stdout",
     "output_type": "stream",
     "text": [
      "[[1 2 3]\n",
      " [4 5 6]\n",
      " [7 8 9]]\n"
     ]
    }
   ],
   "source": [
    "print(A)"
   ]
  },
  {
   "cell_type": "markdown",
   "metadata": {},
   "source": [
    "If we use * for the multiplication of vectors it will do the multiplication of the elements\n",
    "If we use @ it will do the normal multiplication.\n",
    "\n",
    "For the alter product we can use np.outer\n",
    "And there's many more things in numpy thet we can use"
   ]
  },
  {
   "cell_type": "code",
   "execution_count": 89,
   "metadata": {},
   "outputs": [
    {
     "name": "stdout",
     "output_type": "stream",
     "text": [
      "[[ 2  3  2  4]\n",
      " [ 4  1  0 17]\n",
      " [24  0 -1 -3]\n",
      " [ 4  2 14  2]]\n",
      "[[ 2  0  0  4]\n",
      " [ 0  1  0  0]\n",
      " [ 0  0 -1  0]\n",
      " [ 4  0  0  2]]\n",
      "[[2 4]\n",
      " [4 2]]\n",
      "[[1.+0.j 1.+0.j]\n",
      " [1.+0.j 1.+0.j]]\n"
     ]
    }
   ],
   "source": [
    "Z=np.array([[2,3,2,4],[4,1,0,17],[24,0,-1,-3],[4,2,14,2]])\n",
    "H=np.zeros((4,4), dtype=int)\n",
    "A=np.zeros((2,2), dtype=complex)\n",
    "X=np.zeros((2,2))\n",
    "print(Z)\n",
    "i=0\n",
    "k=0\n",
    "for i in range(4):\n",
    "    for k in range(4):\n",
    "        if i==k or i==0 and k==3 or i==3 and k==0:\n",
    "            H[i,k]=Z[i,k]\n",
    "            k=k+1\n",
    "        else:\n",
    "            H[i,k]=0\n",
    "            k=k+1\n",
    "        \n",
    "    i=i+1\n",
    "print(H)\n",
    "\n",
    "\n",
    "Z=np.delete(Z,[1,2],0)\n",
    "Z=np.delete(Z,[1,2],1)\n",
    "X=Z\n",
    "print(X)\n",
    "\n",
    "i=0\n",
    "k=0\n",
    "for i in range(2):\n",
    "    for k in range(2):\n",
    "        A[i,k]=np.round(np.exp(-1j * np.pi * X[i,k]), decimals=10)\n",
    "        k=k+1\n",
    "    i=i+1\n",
    "\n",
    "print(A)\n",
    "                     "
   ]
  },
  {
   "cell_type": "markdown",
   "metadata": {},
   "source": [
    "FOLDERS, AND FILES IN GENERAL\n"
   ]
  },
  {
   "cell_type": "code",
   "execution_count": 90,
   "metadata": {},
   "outputs": [],
   "source": [
    "#We can create a path to a file with the os command\n",
    "\n",
    "path= \"/c/Users/Teresa/Desktop/COMPU/Clases_Filipa/Clases_Filipa/\"\n",
    "folder= \"Data/\"\n",
    "#We can save it to that path"
   ]
  },
  {
   "cell_type": "code",
   "execution_count": 91,
   "metadata": {},
   "outputs": [
    {
     "name": "stdout",
     "output_type": "stream",
     "text": [
      "[ 0.00000000e+00 -2.44929360e-16 -4.89858720e-16 -7.34788079e-16\n",
      " -9.79717439e-16 -1.22464680e-15 -1.46957616e-15 -1.71450552e-15\n",
      " -1.95943488e-15 -2.20436424e-15 -2.44929360e-15]\n"
     ]
    }
   ],
   "source": [
    "x=np.linspace(0,10,11) \n",
    "y=np.sin(2*np.pi*x)\n",
    "print(y)"
   ]
  },
  {
   "cell_type": "code",
   "execution_count": 93,
   "metadata": {},
   "outputs": [
    {
     "ename": "FileNotFoundError",
     "evalue": "[Errno 2] No such file or directory: '/c/Users/Teresa/Desktop/COMPU/Clases_Filipa/Clases_Filipa/sine.npy'",
     "output_type": "error",
     "traceback": [
      "\u001b[1;31m---------------------------------------------------------------------------\u001b[0m",
      "\u001b[1;31mFileNotFoundError\u001b[0m                         Traceback (most recent call last)",
      "Cell \u001b[1;32mIn[93], line 1\u001b[0m\n\u001b[1;32m----> 1\u001b[0m np\u001b[38;5;241m.\u001b[39msave(os\u001b[38;5;241m.\u001b[39mpath\u001b[38;5;241m.\u001b[39mjoin(path,\u001b[38;5;124m\"\u001b[39m\u001b[38;5;124msine\u001b[39m\u001b[38;5;124m\"\u001b[39m),x)\n",
      "File \u001b[1;32mc:\\Users\\Teresa\\AppData\\Local\\mambaforge\\Lib\\site-packages\\numpy\\lib\\_npyio_impl.py:570\u001b[0m, in \u001b[0;36msave\u001b[1;34m(file, arr, allow_pickle, fix_imports)\u001b[0m\n\u001b[0;32m    568\u001b[0m     \u001b[38;5;28;01mif\u001b[39;00m \u001b[38;5;129;01mnot\u001b[39;00m file\u001b[38;5;241m.\u001b[39mendswith(\u001b[38;5;124m'\u001b[39m\u001b[38;5;124m.npy\u001b[39m\u001b[38;5;124m'\u001b[39m):\n\u001b[0;32m    569\u001b[0m         file \u001b[38;5;241m=\u001b[39m file \u001b[38;5;241m+\u001b[39m \u001b[38;5;124m'\u001b[39m\u001b[38;5;124m.npy\u001b[39m\u001b[38;5;124m'\u001b[39m\n\u001b[1;32m--> 570\u001b[0m     file_ctx \u001b[38;5;241m=\u001b[39m \u001b[38;5;28mopen\u001b[39m(file, \u001b[38;5;124m\"\u001b[39m\u001b[38;5;124mwb\u001b[39m\u001b[38;5;124m\"\u001b[39m)\n\u001b[0;32m    572\u001b[0m \u001b[38;5;28;01mwith\u001b[39;00m file_ctx \u001b[38;5;28;01mas\u001b[39;00m fid:\n\u001b[0;32m    573\u001b[0m     arr \u001b[38;5;241m=\u001b[39m np\u001b[38;5;241m.\u001b[39masanyarray(arr)\n",
      "\u001b[1;31mFileNotFoundError\u001b[0m: [Errno 2] No such file or directory: '/c/Users/Teresa/Desktop/COMPU/Clases_Filipa/Clases_Filipa/sine.npy'"
     ]
    }
   ],
   "source": [
    "np.save(os.path.join(path,\"sine\"),x)\n",
    "#This saves the file in the path we created with the name sine.npy"
   ]
  },
  {
   "cell_type": "code",
   "execution_count": null,
   "metadata": {},
   "outputs": [],
   "source": []
  }
 ],
 "metadata": {
  "kernelspec": {
   "display_name": "base",
   "language": "python",
   "name": "python3"
  },
  "language_info": {
   "codemirror_mode": {
    "name": "ipython",
    "version": 3
   },
   "file_extension": ".py",
   "mimetype": "text/x-python",
   "name": "python",
   "nbconvert_exporter": "python",
   "pygments_lexer": "ipython3",
   "version": "3.12.8"
  }
 },
 "nbformat": 4,
 "nbformat_minor": 2
}

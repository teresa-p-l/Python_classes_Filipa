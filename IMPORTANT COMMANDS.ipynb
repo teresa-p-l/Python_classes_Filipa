{
 "cells": [
  {
   "cell_type": "markdown",
   "metadata": {},
   "source": [
    "# SUMMARY OF IMPORTANT CODE\n"
   ]
  },
  {
   "cell_type": "markdown",
   "metadata": {},
   "source": [
    "## LOOPS"
   ]
  },
  {
   "cell_type": "code",
   "execution_count": 1,
   "metadata": {},
   "outputs": [
    {
     "name": "stdout",
     "output_type": "stream",
     "text": [
      "1\n",
      "2\n",
      "3\n",
      "4\n",
      "5\n"
     ]
    }
   ],
   "source": [
    "x=0\n",
    "for i in range(5):\n",
    "    x=x+1\n",
    "    print(x)\n",
    "    i=i+1"
   ]
  },
  {
   "cell_type": "code",
   "execution_count": 1,
   "metadata": {},
   "outputs": [
    {
     "name": "stdout",
     "output_type": "stream",
     "text": [
      "Esto se repite 0 veces\n",
      "Esto se repite 1 veces\n",
      "Esto se repite 2 veces\n",
      "Esto se repite 3 veces\n",
      "Esto se repite 4 veces\n"
     ]
    }
   ],
   "source": [
    "i=0\n",
    "while i<5:\n",
    "    print(\"Esto se repite\", i, \"veces\")\n",
    "    i+=1"
   ]
  },
  {
   "cell_type": "markdown",
   "metadata": {},
   "source": [
    "## BOOLEAN LOGIC\n"
   ]
  },
  {
   "cell_type": "code",
   "execution_count": 4,
   "metadata": {},
   "outputs": [
    {
     "name": "stdout",
     "output_type": "stream",
     "text": [
      "False\n",
      "True\n",
      "True\n",
      "False\n",
      "True\n",
      "False\n"
     ]
    }
   ],
   "source": [
    "a = 0\n",
    "b = 1.2\n",
    "print(a >= 0 and b < 1)\n",
    "print(a >= 0 or b < 1)\n",
    "print(a > 0 or b > 1)\n",
    "print(a > 0 or not b > 1)\n",
    "print(-1 < a <= 0)\n",
    "print(not (a > 0 or b > 0))"
   ]
  },
  {
   "cell_type": "markdown",
   "metadata": {},
   "source": [
    "## FUNCTIONS"
   ]
  },
  {
   "cell_type": "markdown",
   "metadata": {},
   "source": [
    "def function_name(argument_1, argument_2):\n",
    "    local_variable_1 = value_1\n",
    "    local_variable_2 = value_2\n",
    "    return expression"
   ]
  },
  {
   "cell_type": "code",
   "execution_count": 5,
   "metadata": {},
   "outputs": [
    {
     "data": {
      "text/plain": [
       "3.0"
      ]
     },
     "execution_count": 5,
     "metadata": {},
     "output_type": "execute_result"
    }
   ],
   "source": [
    "def funcion_raiz(x, n):\n",
    "    \"\"\"_RAIZ_\n",
    "\n",
    "    Args:\n",
    "        x (float): number to make the root of\n",
    "        n (int): value of the root\n",
    "\n",
    "    Returns:\n",
    "        float: nth root of x\n",
    "    \"\"\"\n",
    "    return x**(1/n)\n",
    "\n",
    "funcion_raiz(27, 3)"
   ]
  },
  {
   "cell_type": "markdown",
   "metadata": {},
   "source": [
    "## IF STATEMENTS"
   ]
  },
  {
   "cell_type": "code",
   "execution_count": null,
   "metadata": {},
   "outputs": [
    {
     "name": "stdout",
     "output_type": "stream",
     "text": [
      "False\n",
      "True\n"
     ]
    }
   ],
   "source": [
    "def heaviside1(x,a,b):\n",
    "    f=False\n",
    "    if a <= x <= b:    #This way you use onlu one if\n",
    "        f=True\n",
    "    return f\n",
    "\n",
    "print(heaviside1(0,10,20))\n",
    "print(heaviside1(11, 10, 20))\n"
   ]
  },
  {
   "cell_type": "markdown",
   "metadata": {},
   "source": [
    "We can also make elif statements and else statements that work the same way the if statement works."
   ]
  },
  {
   "cell_type": "markdown",
   "metadata": {},
   "source": [
    "## LISTS"
   ]
  },
  {
   "cell_type": "code",
   "execution_count": 20,
   "metadata": {},
   "outputs": [
    {
     "name": "stdout",
     "output_type": "stream",
     "text": [
      "3\n",
      "[1, 2, 3, 'hola', 4]\n",
      "[1, 2, 3]\n",
      "[2, 3]\n",
      "[1, 2, 3, 'hola', 4]\n"
     ]
    }
   ],
   "source": [
    "lista1=[1,2,3,\"hola\"]\n",
    "lista1.append(4)    #Add an element at the end of the list\n",
    "print(lista1[2])    #Print the third element of the list\n",
    "len(lista1)    #Print the length of the list\n",
    "print(lista1)\n",
    "print(lista1[:3])   #Print the first three elements of the list\n",
    "print(lista1[1:3])  #Print the second and third elements of the list\n",
    "print(lista1[:])   \n"
   ]
  },
  {
   "cell_type": "code",
   "execution_count": 21,
   "metadata": {},
   "outputs": [
    {
     "data": {
      "text/plain": [
       "0"
      ]
     },
     "execution_count": 21,
     "metadata": {},
     "output_type": "execute_result"
    }
   ],
   "source": [
    "empty=[]\n",
    "len(empty)"
   ]
  },
  {
   "cell_type": "code",
   "execution_count": 22,
   "metadata": {},
   "outputs": [
    {
     "name": "stdout",
     "output_type": "stream",
     "text": [
      "[1, 2, 3, 'hola', 4, 5, 6, 7]\n",
      "[1, 2, 3, 4, 5, 6, 7]\n"
     ]
    }
   ],
   "source": [
    "lista1=lista1+[5,6,7]    #Add elements to the list\n",
    "print(lista1)   \n",
    "del lista1[3]    #Delete the fourth element of the list\n",
    "print(lista1)"
   ]
  },
  {
   "cell_type": "code",
   "execution_count": 23,
   "metadata": {},
   "outputs": [
    {
     "name": "stdout",
     "output_type": "stream",
     "text": [
      "[[1, 2, 3, 4, 5, 6, 7], [1, 2, 3], [4, 5, 6]]\n"
     ]
    },
    {
     "data": {
      "text/plain": [
       "4"
      ]
     },
     "execution_count": 23,
     "metadata": {},
     "output_type": "execute_result"
    }
   ],
   "source": [
    "nest=[lista1, [1,2,3], [4,5,6]]\n",
    "print(nest)\n",
    "nest[0][3]    #Print the fourth element of the first list\n",
    "\n"
   ]
  },
  {
   "cell_type": "markdown",
   "metadata": {},
   "source": [
    "## PHYTHON LIBRARIES: NUMPY"
   ]
  },
  {
   "cell_type": "code",
   "execution_count": 27,
   "metadata": {},
   "outputs": [],
   "source": [
    "import numpy as np  # This way of importing prevents us from typing `numpy` every time. Instead, we can just type `np`\n",
    "import scipy"
   ]
  },
  {
   "cell_type": "markdown",
   "metadata": {},
   "source": [
    "numpy has some functions made already that can help the code "
   ]
  },
  {
   "cell_type": "code",
   "execution_count": 28,
   "metadata": {},
   "outputs": [
    {
     "name": "stdout",
     "output_type": "stream",
     "text": [
      "<class 'numpy.ndarray'>\n",
      "(3, 3)\n",
      "9\n",
      "[[1.+0.j 2.+0.j]\n",
      " [0.+3.j 4.+0.j]]\n"
     ]
    }
   ],
   "source": [
    "A = np.array([[1,2,3], [4,5,6], [7, 8, 9]]) # A 3x3 matrix, an array of only numbers\n",
    "print(type(A)) #type of the variable\n",
    "print(np.shape(A)) #shape of the matrix\n",
    "print(np.size(A)) #number of elements in the matrix\n",
    "M2 = np.array([[1, 2], [3j, 4]], dtype=complex)\n",
    "print(M2)\n",
    "\n"
   ]
  },
  {
   "cell_type": "code",
   "execution_count": 29,
   "metadata": {},
   "outputs": [
    {
     "name": "stdout",
     "output_type": "stream",
     "text": [
      "[0.  0.5 1.  1.5 2.  2.5 3.  3.5 4.  4.5 5.  5.5 6.  6.5 7.  7.5 8.  8.5\n",
      " 9.  9.5]\n",
      "[ 0.   0.5  1.   1.5  2.   2.5  3.   3.5  4.   4.5  5.   5.5  6.   6.5\n",
      "  7.   7.5  8.   8.5  9.   9.5 10. ]\n"
     ]
    }
   ],
   "source": [
    "v = np.arange(0,10,0.5) #Create an array from 0 to 10-0.5 with a step of 0.5\n",
    "print(v)\n",
    "u= np.linspace(0, 10, 21) #crates an array from 0 to 10 with 21 elements (now 10 is included)\n",
    "print(u)\n"
   ]
  },
  {
   "cell_type": "code",
   "execution_count": 30,
   "metadata": {},
   "outputs": [
    {
     "name": "stdout",
     "output_type": "stream",
     "text": [
      "[[0. 0. 0.]\n",
      " [0. 0. 0.]\n",
      " [0. 0. 0.]]\n",
      "[[1. 1.]\n",
      " [1. 1.]\n",
      " [1. 1.]]\n",
      "[[1. 0. 0. 0.]\n",
      " [0. 1. 0. 0.]\n",
      " [0. 0. 1. 0.]\n",
      " [0. 0. 0. 1.]]\n",
      "[[1 0 0]\n",
      " [0 2 0]\n",
      " [0 0 3]]\n",
      "[[0.48130662 0.01445967 0.53822399 0.80115397 0.67627912]\n",
      " [0.25958537 0.49856049 0.99142146 0.83882997 0.25385093]\n",
      " [0.04774321 0.69330565 0.69929461 0.73605898 0.83688813]\n",
      " [0.04125596 0.79955156 0.73619953 0.15578472 0.02759906]\n",
      " [0.43499148 0.2427891  0.00132336 0.38299265 0.45880433]]\n",
      "0.7360589766877078\n",
      "[[0.43499148 0.2427891  0.00132336 0.38299265 0.45880433]]\n",
      "[[0.25958537 0.49856049 0.99142146 0.83882997 0.25385093]\n",
      " [0.04774321 0.69330565 0.69929461 0.73605898 0.83688813]]\n"
     ]
    }
   ],
   "source": [
    "z=np.zeros((3,3)) #creates a 3x3 matrix with zeros\n",
    "o=np.ones((3,2)) #creates a 3x2 matrix with ones\n",
    "I=np.eye(4)  # Creates a 4x4 identity matrix.\n",
    "D=np.diag([1,2,3])  # Creates a matrix with the input list in the diagonal\n",
    "R=np.random.rand(5, 5)  # Creates a 5x5 matrix with random entries between 0 and 1\n",
    "print(z)\n",
    "print(o)\n",
    "print(I)\n",
    "print(D)\n",
    "print(R)\n",
    "print(R[2,3])\n",
    "print(R[-1:])\n",
    "print(R[1:3]) #Prints the second and third rows\n",
    "\n"
   ]
  },
  {
   "cell_type": "code",
   "execution_count": 31,
   "metadata": {},
   "outputs": [
    {
     "name": "stdout",
     "output_type": "stream",
     "text": [
      "[[1 2 3]\n",
      " [4 5 6]\n",
      " [7 8 9]]\n",
      "[[1]\n",
      " [2]\n",
      " [3]]\n",
      "[[ 1  4  9]\n",
      " [16 25 36]\n",
      " [49 64 81]]\n",
      "[[ 3  4  5]\n",
      " [ 6  7  8]\n",
      " [ 9 10 11]]\n",
      "[[14]\n",
      " [32]\n",
      " [50]]\n",
      "[[ 30  36  42]\n",
      " [ 66  81  96]\n",
      " [102 126 150]]\n",
      "[[ 30  36  42]\n",
      " [ 66  81  96]\n",
      " [102 126 150]]\n"
     ]
    }
   ],
   "source": [
    "M = np.array([[1,2,3], [4,5,6], [7, 8, 9]])\n",
    "vec=np.array([[1],[2],[3]])\n",
    "print(M)\n",
    "print(vec)\n",
    "print(M**2)#multiplies each element of the matrix by itself\n",
    "print(M + 2)\n",
    "print(np.matmul(M,vec)) #Matrix multiplication\n",
    "print(np.dot(M,M)) #Matrix multiplication\n",
    "print(np.matmul(M,M))\n",
    "\n"
   ]
  },
  {
   "cell_type": "code",
   "execution_count": 32,
   "metadata": {},
   "outputs": [
    {
     "name": "stdout",
     "output_type": "stream",
     "text": [
      "[[1 2 3]\n",
      " [2 4 6]\n",
      " [3 6 9]]\n",
      "[[ 30  36  42]\n",
      " [ 66  81  96]\n",
      " [102 126 150]]\n",
      "SVDResult(U=array([[-0.21483724,  0.88723069,  0.40824829],\n",
      "       [-0.52058739,  0.24964395, -0.81649658],\n",
      "       [-0.82633754, -0.38794278,  0.40824829]]), S=array([1.68481034e+01, 1.06836951e+00, 4.41842475e-16]), Vh=array([[-0.47967118, -0.57236779, -0.66506441],\n",
      "       [-0.77669099, -0.07568647,  0.62531805],\n",
      "       [-0.40824829,  0.81649658, -0.40824829]]))\n",
      "[ 1.61168440e+01 -1.11684397e+00 -4.22209278e-16]\n"
     ]
    }
   ],
   "source": [
    "print(np.outer(vec,vec)) #Outer product\n",
    "print(np.linalg.matrix_power(A,2)) #Matrix power\n",
    "print(np.linalg.svd(A)) #Singular value decomposition\n",
    "print(np.linalg.eigvals(A)) #Eigenvalues"
   ]
  },
  {
   "cell_type": "markdown",
   "metadata": {},
   "source": [
    "## CREATING AND WRITING DATA"
   ]
  },
  {
   "cell_type": "code",
   "execution_count": 25,
   "metadata": {},
   "outputs": [],
   "source": [
    "import os\n",
    "path = \"\\\\Users\\\\Teresa\\\\Desktop\\\\COMPU\\\\Clases_Filipa\\\\Clases_Filipa\"\n",
    "folder = path + \"\\\\Data\"\n",
    "\n",
    "try:  #  This snippet of code will try to create a folder.\n",
    "    os.mkdir(folder)  #  If, such a folder doesn't exist, it creates it.\n",
    "except FileExistsError:  #  If it does exist, then it does nothing\n",
    "    pass"
   ]
  },
  {
   "cell_type": "code",
   "execution_count": 26,
   "metadata": {},
   "outputs": [
    {
     "name": "stdout",
     "output_type": "stream",
     "text": [
      "[ 0.00000000e+00  5.87785252e-01  9.51056516e-01  9.51056516e-01\n",
      "  5.87785252e-01  1.22464680e-16 -5.87785252e-01 -9.51056516e-01\n",
      " -9.51056516e-01 -5.87785252e-01 -2.44929360e-16]\n"
     ]
    }
   ],
   "source": [
    "x = np.linspace(0, 1, 11)\n",
    "y = np.sin(2 * np.pi * x)\n",
    "\n",
    "print(y)\n",
    "np.save(os.path.join(folder, 'sine'), y) #  Save the array `y` in the folder `Data` with the name `sine.npy`"
   ]
  },
  {
   "cell_type": "code",
   "execution_count": null,
   "metadata": {},
   "outputs": [],
   "source": []
  }
 ],
 "metadata": {
  "kernelspec": {
   "display_name": "base",
   "language": "python",
   "name": "python3"
  },
  "language_info": {
   "codemirror_mode": {
    "name": "ipython",
    "version": 3
   },
   "file_extension": ".py",
   "mimetype": "text/x-python",
   "name": "python",
   "nbconvert_exporter": "python",
   "pygments_lexer": "ipython3",
   "version": "3.12.8"
  }
 },
 "nbformat": 4,
 "nbformat_minor": 2
}
